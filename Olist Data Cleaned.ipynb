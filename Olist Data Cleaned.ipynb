{
 "cells": [
  {
   "cell_type": "markdown",
   "metadata": {},
   "source": [
    "import libraries"
   ]
  },
  {
   "cell_type": "code",
   "execution_count": null,
   "metadata": {},
   "outputs": [],
   "source": [
    "\n",
    "# Importing Pandas library for data manipulation\n",
    "import pandas as pd"
   ]
  },
  {
   "cell_type": "markdown",
   "metadata": {},
   "source": [
    "read files"
   ]
  },
  {
   "cell_type": "code",
   "execution_count": null,
   "metadata": {},
   "outputs": [],
   "source": [
    "\n",
    "# Loading CSV files into DataFrames\n",
    "olist_orders_dataset=pd.read_csv(r\"olist_orders_dataset.csv\")\n",
    "olist_order_items_dataset=pd.read_csv(r\"olist_order_items_dataset.csv\")\n",
    "olist_order_payments_dataset=pd.read_csv(r\"olist_order_payments_dataset.csv\")\n",
    "olist_customers_dataset=pd.read_csv(r\"olist_customers_dataset.csv\")"
   ]
  },
  {
   "cell_type": "markdown",
   "metadata": {},
   "source": [
    "Remove Unnecessary Columns"
   ]
  },
  {
   "cell_type": "code",
   "execution_count": null,
   "metadata": {},
   "outputs": [
    {
     "name": "stdout",
     "output_type": "stream",
     "text": [
      "<class 'pandas.core.frame.DataFrame'>\n",
      "RangeIndex: 99441 entries, 0 to 99440\n",
      "Data columns (total 8 columns):\n",
      " #   Column                         Non-Null Count  Dtype \n",
      "---  ------                         --------------  ----- \n",
      " 0   order_id                       99441 non-null  object\n",
      " 1   customer_id                    99441 non-null  object\n",
      " 2   order_status                   99441 non-null  object\n",
      " 3   order_purchase_timestamp       99441 non-null  object\n",
      " 4   order_approved_at              99281 non-null  object\n",
      " 5   order_delivered_carrier_date   97658 non-null  object\n",
      " 6   order_delivered_customer_date  96476 non-null  object\n",
      " 7   order_estimated_delivery_date  99441 non-null  object\n",
      "dtypes: object(8)\n",
      "memory usage: 6.1+ MB\n",
      "<class 'pandas.core.frame.DataFrame'>\n",
      "RangeIndex: 99441 entries, 0 to 99440\n",
      "Data columns (total 5 columns):\n",
      " #   Column                    Non-Null Count  Dtype \n",
      "---  ------                    --------------  ----- \n",
      " 0   customer_id               99441 non-null  object\n",
      " 1   customer_unique_id        99441 non-null  object\n",
      " 2   customer_zip_code_prefix  99441 non-null  int64 \n",
      " 3   customer_city             99441 non-null  object\n",
      " 4   customer_state            99441 non-null  object\n",
      "dtypes: int64(1), object(4)\n",
      "memory usage: 3.8+ MB\n",
      "<class 'pandas.core.frame.DataFrame'>\n",
      "RangeIndex: 103886 entries, 0 to 103885\n",
      "Data columns (total 5 columns):\n",
      " #   Column                Non-Null Count   Dtype  \n",
      "---  ------                --------------   -----  \n",
      " 0   order_id              103886 non-null  object \n",
      " 1   payment_sequential    103886 non-null  int64  \n",
      " 2   payment_type          103886 non-null  object \n",
      " 3   payment_installments  103886 non-null  int64  \n",
      " 4   payment_value         103886 non-null  float64\n",
      "dtypes: float64(1), int64(2), object(2)\n",
      "memory usage: 4.0+ MB\n"
     ]
    }
   ],
   "source": [
    "olist_orders_dataset.info()\n",
    "\n",
    "# Removing unnecessary columns to optimize analysis\n",
    "olist_orders_dataset.drop(columns=['order_approved_at','order_delivered_carrier_date'])\n",
    "olist_customers_dataset.info()\n",
    "# Removing unnecessary columns to optimize analysis\n",
    "olist_customers_dataset.drop(columns=['customer_zip_code_prefix'])"
   ]
  },
  {
   "cell_type": "code",
   "execution_count": null,
   "metadata": {},
   "outputs": [
    {
     "name": "stdout",
     "output_type": "stream",
     "text": [
      "<class 'pandas.core.frame.DataFrame'>\n",
      "RangeIndex: 103886 entries, 0 to 103885\n",
      "Data columns (total 5 columns):\n",
      " #   Column                Non-Null Count   Dtype  \n",
      "---  ------                --------------   -----  \n",
      " 0   order_id              103886 non-null  object \n",
      " 1   payment_sequential    103886 non-null  int64  \n",
      " 2   payment_type          103886 non-null  object \n",
      " 3   payment_installments  103886 non-null  int64  \n",
      " 4   payment_value         103886 non-null  float64\n",
      "dtypes: float64(1), int64(2), object(2)\n",
      "memory usage: 4.0+ MB\n"
     ]
    }
   ],
   "source": [
    "olist_order_payments_dataset.info()\n",
    "# Removing unnecessary columns to optimize analysis\n",
    "olist_order_payments_dataset=olist_order_payments_dataset.drop(columns=['payment_installments','payment_sequential'])"
   ]
  },
  {
   "cell_type": "code",
   "execution_count": null,
   "metadata": {},
   "outputs": [
    {
     "name": "stdout",
     "output_type": "stream",
     "text": [
      "<class 'pandas.core.frame.DataFrame'>\n",
      "RangeIndex: 112650 entries, 0 to 112649\n",
      "Data columns (total 3 columns):\n",
      " #   Column         Non-Null Count   Dtype  \n",
      "---  ------         --------------   -----  \n",
      " 0   order_id       112650 non-null  object \n",
      " 1   price          112650 non-null  float64\n",
      " 2   freight_value  112650 non-null  float64\n",
      "dtypes: float64(2), object(1)\n",
      "memory usage: 2.6+ MB\n"
     ]
    }
   ],
   "source": [
    "olist_order_items_dataset.info()\n",
    " \n",
    "# Removing unnecessary columns to optimize analysis\n",
    "olist_order_items_dataset=olist_order_items_dataset.drop(columns=['seller_id','order_item_id','shipping_limit_date '])"
   ]
  },
  {
   "cell_type": "markdown",
   "metadata": {},
   "source": [
    "Merge data"
   ]
  },
  {
   "cell_type": "code",
   "execution_count": null,
   "metadata": {},
   "outputs": [
    {
     "name": "stdout",
     "output_type": "stream",
     "text": [
      "<class 'pandas.core.frame.DataFrame'>\n",
      "RangeIndex: 113425 entries, 0 to 113424\n",
      "Data columns (total 10 columns):\n",
      " #   Column                         Non-Null Count   Dtype  \n",
      "---  ------                         --------------   -----  \n",
      " 0   order_id                       113425 non-null  object \n",
      " 1   customer_id                    113425 non-null  object \n",
      " 2   order_status                   113425 non-null  object \n",
      " 3   order_purchase_timestamp       113425 non-null  object \n",
      " 4   order_approved_at              113264 non-null  object \n",
      " 5   order_delivered_carrier_date   111457 non-null  object \n",
      " 6   order_delivered_customer_date  110196 non-null  object \n",
      " 7   order_estimated_delivery_date  113425 non-null  object \n",
      " 8   price                          112650 non-null  float64\n",
      " 9   freight_value                  112650 non-null  float64\n",
      "dtypes: float64(2), object(8)\n",
      "memory usage: 8.7+ MB\n"
     ]
    }
   ],
   "source": [
    "# Merging datasets based on common keys\n",
    "First_Merge=olist_orders_dataset.merge(olist_order_items_dataset,how='outer',on='order_id',suffixes=('',''))\n",
    "First_Merge.info()"
   ]
  },
  {
   "cell_type": "code",
   "execution_count": null,
   "metadata": {},
   "outputs": [
    {
     "name": "stdout",
     "output_type": "stream",
     "text": [
      "<class 'pandas.core.frame.DataFrame'>\n",
      "RangeIndex: 113425 entries, 0 to 113424\n",
      "Data columns (total 14 columns):\n",
      " #   Column                         Non-Null Count   Dtype  \n",
      "---  ------                         --------------   -----  \n",
      " 0   order_id                       113425 non-null  object \n",
      " 1   customer_id                    113425 non-null  object \n",
      " 2   order_status                   113425 non-null  object \n",
      " 3   order_purchase_timestamp       113425 non-null  object \n",
      " 4   order_approved_at              113264 non-null  object \n",
      " 5   order_delivered_carrier_date   111457 non-null  object \n",
      " 6   order_delivered_customer_date  110196 non-null  object \n",
      " 7   order_estimated_delivery_date  113425 non-null  object \n",
      " 8   price                          112650 non-null  float64\n",
      " 9   freight_value                  112650 non-null  float64\n",
      " 10  customer_unique_id             113425 non-null  object \n",
      " 11  customer_zip_code_prefix       113425 non-null  int64  \n",
      " 12  customer_city                  113425 non-null  object \n",
      " 13  customer_state                 113425 non-null  object \n",
      "dtypes: float64(2), int64(1), object(11)\n",
      "memory usage: 12.1+ MB\n"
     ]
    }
   ],
   "source": [
    "# Merging datasets based on common keys\n",
    "Second_merge=First_Merge.merge(olist_customers_dataset,on='customer_id',how='left',suffixes=('',''))\n",
    "Second_merge.info()"
   ]
  },
  {
   "cell_type": "code",
   "execution_count": null,
   "metadata": {},
   "outputs": [
    {
     "data": {
      "text/plain": [
       "<bound method DataFrame.info of                                 order_id                       customer_id  \\\n",
       "0       00010242fe8c5a6d1ba2dd792cb16214  3ce436f183e68e07877b285a838db11a   \n",
       "1       00018f77f2f0320c557190d7a144bdd3  f6dd3ec061db4e3987629fe6b26e5cce   \n",
       "2       000229ec398224ef6ca0657da4fc703e  6489ae5e4333f3693df5ad4372dab6d3   \n",
       "3       00024acbcdf0a6daa1e931b038114c75  d4eb9395c8c0431ee92fce09860c5a06   \n",
       "4       00042b26cf59d7ce69dfabb4e55b4fd9  58dbd0b2d70206bf40e62cd34e84d795   \n",
       "...                                  ...                               ...   \n",
       "118429  fffc94f6ce00a00581880bf54a75a037  b51593916b4b8e0d6f66f2ae24f2673d   \n",
       "118430  fffcd46ef2263f404302a634eb57f7eb  84c5d4fbaf120aae381fad077416eaa0   \n",
       "118431  fffce4705a9662cd70adb13d4a31832d  29309aa813182aaddc9b259e31b870e6   \n",
       "118432  fffe18544ffabc95dfada21779c9644f  b5e6afd5a41800fdf401e0272ca74655   \n",
       "118433  fffe41c64501cc87c801fd61db3f6244  96d649da0cc4ff33bb408b199d4c7dcf   \n",
       "\n",
       "       order_status order_purchase_timestamp    order_approved_at  \\\n",
       "0         delivered      2017-09-13 08:59:02  2017-09-13 09:45:35   \n",
       "1         delivered      2017-04-26 10:53:06  2017-04-26 11:05:13   \n",
       "2         delivered      2018-01-14 14:33:31  2018-01-14 14:48:30   \n",
       "3         delivered      2018-08-08 10:00:35  2018-08-08 10:10:18   \n",
       "4         delivered      2017-02-04 13:57:51  2017-02-04 14:10:13   \n",
       "...             ...                      ...                  ...   \n",
       "118429    delivered      2018-04-23 13:57:06  2018-04-25 04:11:01   \n",
       "118430    delivered      2018-07-14 10:26:46  2018-07-17 04:31:48   \n",
       "118431    delivered      2017-10-23 17:07:56  2017-10-24 17:14:25   \n",
       "118432    delivered      2017-08-14 23:02:59  2017-08-15 00:04:32   \n",
       "118433    delivered      2018-06-09 17:00:18  2018-06-09 17:10:13   \n",
       "\n",
       "       order_delivered_carrier_date order_delivered_customer_date  \\\n",
       "0               2017-09-19 18:34:16           2017-09-20 23:43:48   \n",
       "1               2017-05-04 14:35:00           2017-05-12 16:04:24   \n",
       "2               2018-01-16 12:36:48           2018-01-22 13:19:16   \n",
       "3               2018-08-10 13:28:00           2018-08-14 13:32:39   \n",
       "4               2017-02-16 09:46:09           2017-03-01 16:42:31   \n",
       "...                             ...                           ...   \n",
       "118429          2018-04-25 12:09:00           2018-05-10 22:56:40   \n",
       "118430          2018-07-17 08:05:00           2018-07-23 20:31:55   \n",
       "118431          2017-10-26 15:13:14           2017-10-28 12:22:22   \n",
       "118432          2017-08-15 19:02:53           2017-08-16 21:59:40   \n",
       "118433          2018-06-11 14:11:00           2018-06-14 17:56:26   \n",
       "\n",
       "       order_estimated_delivery_date   price  freight_value  \\\n",
       "0                2017-09-29 00:00:00   58.90          13.29   \n",
       "1                2017-05-15 00:00:00  239.90          19.93   \n",
       "2                2018-02-05 00:00:00  199.00          17.87   \n",
       "3                2018-08-20 00:00:00   12.99          12.79   \n",
       "4                2017-03-17 00:00:00  199.90          18.14   \n",
       "...                              ...     ...            ...   \n",
       "118429           2018-05-18 00:00:00  299.99          43.41   \n",
       "118430           2018-08-01 00:00:00  350.00          36.53   \n",
       "118431           2017-11-10 00:00:00   99.90          16.95   \n",
       "118432           2017-08-25 00:00:00   55.99           8.72   \n",
       "118433           2018-06-28 00:00:00   43.00          12.79   \n",
       "\n",
       "                      customer_unique_id  customer_zip_code_prefix  \\\n",
       "0       871766c5855e863f6eccc05f988b23cb                     28013   \n",
       "1       eb28e67c4c0b83846050ddfb8a35d051                     15775   \n",
       "2       3818d81c6709e39d06b2738a8d3a2474                     35661   \n",
       "3       af861d436cfc08b2c2ddefd0ba074622                     12952   \n",
       "4       64b576fb70d441e8f1b2d7d446e483c5                     13226   \n",
       "...                                  ...                       ...   \n",
       "118429  0c9aeda10a71f369396d0c04dce13a64                     65077   \n",
       "118430  0da9fe112eae0c74d3ba1fe16de0988b                     81690   \n",
       "118431  cd79b407828f02fdbba457111c38e4c4                      4039   \n",
       "118432  eb803377c9315b564bdedad672039306                     13289   \n",
       "118433  cd76a00d8e3ca5e6ab9ed9ecb6667ac4                     18605   \n",
       "\n",
       "                customer_city customer_state payment_type  payment_value  \n",
       "0       campos dos goytacazes             RJ  credit_card          72.19  \n",
       "1             santa fe do sul             SP  credit_card         259.83  \n",
       "2               para de minas             MG  credit_card         216.87  \n",
       "3                     atibaia             SP  credit_card          25.78  \n",
       "4             varzea paulista             SP  credit_card         218.04  \n",
       "...                       ...            ...          ...            ...  \n",
       "118429               sao luis             MA       boleto         343.40  \n",
       "118430               curitiba             PR       boleto         386.53  \n",
       "118431              sao paulo             SP  credit_card         116.85  \n",
       "118432                vinhedo             SP  credit_card          64.71  \n",
       "118433               botucatu             SP  credit_card          55.79  \n",
       "\n",
       "[118434 rows x 16 columns]>"
      ]
     },
     "execution_count": 43,
     "metadata": {},
     "output_type": "execute_result"
    }
   ],
   "source": [
    "# Merging datasets based on common keys\n",
    "All_Data=Second_merge.merge(olist_order_payments_dataset,on='order_id',how='left',suffixes=('',''))\n",
    "All_Data.info"
   ]
  },
  {
   "cell_type": "markdown",
   "metadata": {},
   "source": [
    "duplicates handelling"
   ]
  },
  {
   "cell_type": "code",
   "execution_count": 52,
   "metadata": {},
   "outputs": [],
   "source": [
    "Sum_duplicated=All_Data.duplicated().sum()\n",
    "Sum_duplicated\n",
    "All_Data=All_Data.drop_duplicates()"
   ]
  },
  {
   "cell_type": "markdown",
   "metadata": {},
   "source": [
    "null handeling"
   ]
  },
  {
   "cell_type": "code",
   "execution_count": 60,
   "metadata": {},
   "outputs": [
    {
     "name": "stdout",
     "output_type": "stream",
     "text": [
      "<class 'pandas.core.frame.DataFrame'>\n",
      "Index: 103180 entries, 0 to 118433\n",
      "Data columns (total 16 columns):\n",
      " #   Column                         Non-Null Count   Dtype  \n",
      "---  ------                         --------------   -----  \n",
      " 0   order_id                       103180 non-null  object \n",
      " 1   customer_id                    103180 non-null  object \n",
      " 2   order_status                   103180 non-null  object \n",
      " 3   order_purchase_timestamp       103180 non-null  object \n",
      " 4   order_approved_at              103180 non-null  object \n",
      " 5   order_delivered_carrier_date   103180 non-null  object \n",
      " 6   order_delivered_customer_date  103180 non-null  object \n",
      " 7   order_estimated_delivery_date  103180 non-null  object \n",
      " 8   price                          103180 non-null  float64\n",
      " 9   freight_value                  103180 non-null  float64\n",
      " 10  customer_unique_id             103180 non-null  object \n",
      " 11  customer_zip_code_prefix       103180 non-null  int64  \n",
      " 12  customer_city                  103180 non-null  object \n",
      " 13  customer_state                 103180 non-null  object \n",
      " 14  payment_type                   103180 non-null  object \n",
      " 15  payment_value                  103180 non-null  float64\n",
      "dtypes: float64(3), int64(1), object(12)\n",
      "memory usage: 13.4+ MB\n"
     ]
    }
   ],
   "source": [
    "All_Data.dropna(inplace=True)\n",
    "All_Data.info()"
   ]
  },
  {
   "cell_type": "code",
   "execution_count": 61,
   "metadata": {},
   "outputs": [],
   "source": [
    "All_Data.to_csv('Olist Data Cleaned.csv',index=False)"
   ]
  },
  {
   "cell_type": "code",
   "execution_count": null,
   "metadata": {},
   "outputs": [],
   "source": []
  }
 ],
 "metadata": {
  "kernelspec": {
   "display_name": "Python 3",
   "language": "python",
   "name": "python3"
  },
  "language_info": {
   "codemirror_mode": {
    "name": "ipython",
    "version": 3
   },
   "file_extension": ".py",
   "mimetype": "text/x-python",
   "name": "python",
   "nbconvert_exporter": "python",
   "pygments_lexer": "ipython3",
   "version": "3.13.2"
  }
 },
 "nbformat": 4,
 "nbformat_minor": 2
}
